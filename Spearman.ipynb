{
 "cells": [
  {
   "cell_type": "code",
   "execution_count": 1,
   "id": "79605d81",
   "metadata": {},
   "outputs": [
    {
     "name": "stderr",
     "output_type": "stream",
     "text": [
      "C:\\Users\\thadh\\AppData\\Local\\Temp\\ipykernel_7068\\166722423.py:31: DeprecationWarning: Please use `spearmanr` from the `scipy.stats` namespace, the `scipy.stats.stats` namespace is deprecated.\n",
      "  spear_m = stats.spearmanr(sr_iv, sr_act)\n"
     ]
    },
    {
     "name": "stdout",
     "output_type": "stream",
     "text": [
      "Spearman Rank Correlation: 0.5875204300817203\n",
      "Spearman Rank Correlation: 0.3665687302749211\n",
      "Spearman Rank Correlation: 0.5801610406441626\n",
      "Spearman Rank Correlation: 0.8967091548366193\n",
      "Spearman Rank Correlation: 0.19942524570098277\n",
      "Spearman Rank Correlation: 0.2394017256069024\n",
      "[0.5875204300817203, 0.3665687302749211, 0.5801610406441626, 0.8967091548366193, 0.19942524570098277, 0.2394017256069024]\n"
     ]
    }
   ],
   "source": [
    "from scipy.stats import stats \n",
    "from openpyxl import load_workbook\n",
    "\n",
    "def calculate(data_file):\n",
    "    global sr_iv, sr_act\n",
    "    wb = load_workbook(data_file)\n",
    "    ws = wb['Sheet1']\n",
    "    columns1 = list(ws.columns)\n",
    "    sr_iv = []\n",
    "    sr_act = []\n",
    "    i, j = 0, 0\n",
    "    for cell in columns1[0]:\n",
    "        if i != 0:\n",
    "            if cell.value != \"\":\n",
    "                sr_iv.append(float(cell.value))\n",
    "            # print(cell.value)\n",
    "        i += 1\n",
    "    for cell in columns1[1]:\n",
    "        if j != 0:\n",
    "            if cell.value != \"\":\n",
    "                sr_act.append(float(cell.value))\n",
    "            # print(cell.value)\n",
    "        j += 1\n",
    "    return sr_iv, sr_act\n",
    "\n",
    "k = 0\n",
    "correlations = []\n",
    "while k <= 5:\n",
    "    df = \"rank\" + str(k) + \".xlsx\"\n",
    "    calculate(df)\n",
    "    spear_m = stats.spearmanr(sr_iv, sr_act)\n",
    "    print('Spearman Rank Correlation: ' + str(spear_m.statistic))\n",
    "    correlations.append(spear_m.statistic) \n",
    "    k += 1\n",
    "\n",
    "print(correlations)\n"
   ]
  },
  {
   "cell_type": "code",
   "execution_count": null,
   "id": "4b8b0614",
   "metadata": {},
   "outputs": [],
   "source": []
  }
 ],
 "metadata": {
  "kernelspec": {
   "display_name": "Python 3 (ipykernel)",
   "language": "python",
   "name": "python3"
  },
  "language_info": {
   "codemirror_mode": {
    "name": "ipython",
    "version": 3
   },
   "file_extension": ".py",
   "mimetype": "text/x-python",
   "name": "python",
   "nbconvert_exporter": "python",
   "pygments_lexer": "ipython3",
   "version": "3.11.5"
  }
 },
 "nbformat": 4,
 "nbformat_minor": 5
}
